{
 "cells": [
  {
   "cell_type": "code",
   "execution_count": 1,
   "id": "65cb211b",
   "metadata": {},
   "outputs": [],
   "source": [
    "import numpy as np\n",
    "import torch"
   ]
  },
  {
   "cell_type": "code",
   "execution_count": 2,
   "id": "665e9fa9",
   "metadata": {},
   "outputs": [],
   "source": [
    "# f = w * x, w = 2\n",
    "\n",
    "x = torch.tensor([1,2,3,4], dtype=torch.float32)\n",
    "# x = np.array([1,2,3,4], dtype=np.float32)\n",
    "y = torch.tensor([1,2,3,4], dtype=torch.float32)\n",
    "# y = np.array([2,4,6,8], dtype=np.float32)\n",
    "w = torch.tensor(0.0, dtype=torch.float32, requires_grad=True)\n",
    "# w = 0.0"
   ]
  },
  {
   "cell_type": "code",
   "execution_count": 3,
   "id": "e7905b1b",
   "metadata": {},
   "outputs": [],
   "source": [
    "# midel prediction\n",
    "def forward(x):\n",
    "    return w * x"
   ]
  },
  {
   "cell_type": "code",
   "execution_count": 4,
   "id": "51cf2a3f",
   "metadata": {},
   "outputs": [],
   "source": [
    "# loss= MSE\n",
    "def loss(y, y_predicted):\n",
    "    return((y_predicted-y)**2).mean()"
   ]
  },
  {
   "cell_type": "code",
   "execution_count": 5,
   "id": "054902fe",
   "metadata": {},
   "outputs": [],
   "source": [
    "# gradient\n",
    "# MSE = 1/N * (w*x - y) ** 2, x stands for prodiction\n",
    "\n",
    "def gradient(x,y, y_predicted):\n",
    "    return np.dot(2*x, y_predicted-y).mean()"
   ]
  },
  {
   "cell_type": "code",
   "execution_count": 6,
   "id": "88495c44",
   "metadata": {},
   "outputs": [
    {
     "name": "stdout",
     "output_type": "stream",
     "text": [
      "Prediction before training : f(5) = tensor(0., grad_fn=<MulBackward0>)\n"
     ]
    }
   ],
   "source": [
    "print(\"Prediction before training : f(5) = \" + str(forward(5)))"
   ]
  },
  {
   "cell_type": "code",
   "execution_count": 7,
   "id": "0da6b62d",
   "metadata": {},
   "outputs": [
    {
     "name": "stdout",
     "output_type": "stream",
     "text": [
      "epoch1:w=0.150,loss=7.50000000\n",
      "epoch2:w=0.277,loss=5.41874981\n",
      "epoch3:w=0.386,loss=3.91504693\n",
      "epoch4:w=0.478,loss=2.82862163\n",
      "epoch5:w=0.556,loss=2.04367924\n",
      "epoch6:w=0.623,loss=1.47655809\n",
      "epoch7:w=0.679,loss=1.06681323\n",
      "epoch8:w=0.728,loss=0.77077246\n",
      "epoch9:w=0.768,loss=0.55688304\n",
      "epoch10:w=0.803,loss=0.40234792\n",
      "epoch11:w=0.833,loss=0.29069641\n",
      "epoch12:w=0.858,loss=0.21002811\n",
      "epoch13:w=0.879,loss=0.15174529\n",
      "epoch14:w=0.897,loss=0.10963599\n",
      "epoch15:w=0.913,loss=0.07921195\n",
      "epoch16:w=0.926,loss=0.05723065\n",
      "epoch17:w=0.937,loss=0.04134913\n",
      "epoch18:w=0.946,loss=0.02987475\n",
      "epoch19:w=0.954,loss=0.02158451\n",
      "epoch20:w=0.961,loss=0.01559479\n",
      "Prediction after training : f(5) = tensor(4.8062, grad_fn=<MulBackward0>)\n"
     ]
    }
   ],
   "source": [
    "# training\n",
    "lr = 0.01\n",
    "n_iters = 20\n",
    "\n",
    "for epoch in range(n_iters):\n",
    "    # prediction = forward pass\n",
    "    y_pred = forward(x)\n",
    "    \n",
    "    #loss\n",
    "    l = loss(y, y_pred) \n",
    "    \n",
    "    # gradients = backward pass\n",
    "    l.backward()\n",
    "    # dw = gradient(x,y,y_pred)\n",
    "    \n",
    "    # update weights\n",
    "    with torch.no_grad():\n",
    "        w -= lr * w.grad\n",
    "    # w -= lr * dw\n",
    "    \n",
    "    # zero gradients\n",
    "    w.grad.zero_()\n",
    "\n",
    "    print(f\"epoch{epoch+1}:w={w:.3f},loss={l:.8f}\")\n",
    "    \n",
    "print(\"Prediction after training : f(5) = \" + str(forward(5)))"
   ]
  }
 ],
 "metadata": {
  "kernelspec": {
   "display_name": "Python 3 (ipykernel)",
   "language": "python",
   "name": "python3"
  },
  "language_info": {
   "codemirror_mode": {
    "name": "ipython",
    "version": 3
   },
   "file_extension": ".py",
   "mimetype": "text/x-python",
   "name": "python",
   "nbconvert_exporter": "python",
   "pygments_lexer": "ipython3",
   "version": "3.7.9"
  }
 },
 "nbformat": 4,
 "nbformat_minor": 5
}
