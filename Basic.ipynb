{
 "cells": [
  {
   "cell_type": "code",
   "execution_count": 1,
   "id": "ae00b86c",
   "metadata": {},
   "outputs": [],
   "source": [
    "import torch"
   ]
  },
  {
   "cell_type": "code",
   "execution_count": 2,
   "id": "55ead795",
   "metadata": {},
   "outputs": [
    {
     "data": {
      "text/plain": [
       "tensor([0., 0., 0.])"
      ]
     },
     "execution_count": 2,
     "metadata": {},
     "output_type": "execute_result"
    }
   ],
   "source": [
    "torch.empty(3) # non-init tensor"
   ]
  },
  {
   "cell_type": "code",
   "execution_count": 3,
   "id": "0adaac8c",
   "metadata": {},
   "outputs": [
    {
     "data": {
      "text/plain": [
       "tensor([[0., 0.],\n",
       "        [0., 0.]])"
      ]
     },
     "execution_count": 3,
     "metadata": {},
     "output_type": "execute_result"
    }
   ],
   "source": [
    "torch.zeros(2,2) # create zero tensor"
   ]
  },
  {
   "cell_type": "code",
   "execution_count": 4,
   "id": "934496b6",
   "metadata": {},
   "outputs": [
    {
     "data": {
      "text/plain": [
       "tensor([2.5000, 0.1000])"
      ]
     },
     "execution_count": 4,
     "metadata": {},
     "output_type": "execute_result"
    }
   ],
   "source": [
    "torch.tensor([2.5,0.1]) # create tensor"
   ]
  },
  {
   "cell_type": "code",
   "execution_count": 5,
   "id": "b31566c6",
   "metadata": {},
   "outputs": [
    {
     "data": {
      "text/plain": [
       "tensor([[0.3411, 0.1090],\n",
       "        [0.5127, 0.3655]])"
      ]
     },
     "execution_count": 5,
     "metadata": {},
     "output_type": "execute_result"
    }
   ],
   "source": [
    "torch.rand(2,2) # create random value tensor"
   ]
  },
  {
   "cell_type": "code",
   "execution_count": 6,
   "id": "b50b714e",
   "metadata": {},
   "outputs": [
    {
     "data": {
      "text/plain": [
       "torch.Size([2, 2])"
      ]
     },
     "execution_count": 6,
     "metadata": {},
     "output_type": "execute_result"
    }
   ],
   "source": [
    "x = torch.ones(2,2, dtype=torch.float16) # create num one tensor\n",
    "x.size()"
   ]
  },
  {
   "cell_type": "code",
   "execution_count": 7,
   "id": "be9f8fda",
   "metadata": {},
   "outputs": [
    {
     "name": "stdout",
     "output_type": "stream",
     "text": [
      "tensor([[1., 1.],\n",
      "        [1., 1.]], dtype=torch.float16)\n",
      "tensor([[0.2862, 0.6997],\n",
      "        [0.6179, 0.7953]])\n",
      "=================================\n",
      "tensor([[1.2862, 1.6997],\n",
      "        [1.6179, 1.7953]])\n",
      "tensor([[0.7138, 0.3003],\n",
      "        [0.3821, 0.2047]])\n",
      "tensor([[0.2862, 0.6997],\n",
      "        [0.6179, 0.7953]])\n",
      "tensor([[3.4939, 1.4292],\n",
      "        [1.6185, 1.2574]])\n"
     ]
    }
   ],
   "source": [
    "\n",
    "y = torch.rand(2,2)\n",
    "print(x)\n",
    "print(y)\n",
    "print(\"=================================\")\n",
    "print(x+y)\n",
    "print(x-y)\n",
    "print(x*y)\n",
    "print(x/y)"
   ]
  },
  {
   "cell_type": "code",
   "execution_count": 8,
   "id": "8ed1dcfd",
   "metadata": {},
   "outputs": [
    {
     "name": "stdout",
     "output_type": "stream",
     "text": [
      "tensor(0.1028)\n",
      "0.10277712345123291\n"
     ]
    }
   ],
   "source": [
    "x = torch.rand(5,3)\n",
    "\n",
    "print(x[1,1])\n",
    "print(x[1,1].item())# only can use when have only one tensor"
   ]
  },
  {
   "cell_type": "code",
   "execution_count": 9,
   "id": "a432f659",
   "metadata": {},
   "outputs": [
    {
     "name": "stdout",
     "output_type": "stream",
     "text": [
      "tensor([0.9569, 0.9618, 0.6503, 0.0633, 0.7876, 0.1867, 0.6754, 0.3467, 0.2051,\n",
      "        0.0633, 0.7381, 0.9330, 0.1304, 0.0338, 0.2398, 0.5017, 0.8700, 0.7186,\n",
      "        0.4936, 0.6330, 0.4271, 0.9177, 0.7703, 0.2213, 0.5649, 0.6019, 0.6395,\n",
      "        0.7330, 0.5124, 0.0137, 0.4880, 0.3221, 0.4267, 0.7753, 0.3208, 0.0543,\n",
      "        0.4328, 0.4075, 0.7060, 0.7462, 0.0763, 0.7790, 0.8319, 0.1943, 0.4211,\n",
      "        0.8268, 0.1112, 0.1933, 0.4584, 0.5629])\n",
      "tensor([[0.9569, 0.9618, 0.6503, 0.0633, 0.7876, 0.1867, 0.6754, 0.3467, 0.2051,\n",
      "         0.0633, 0.7381, 0.9330, 0.1304, 0.0338, 0.2398, 0.5017, 0.8700, 0.7186,\n",
      "         0.4936, 0.6330, 0.4271, 0.9177, 0.7703, 0.2213, 0.5649],\n",
      "        [0.6019, 0.6395, 0.7330, 0.5124, 0.0137, 0.4880, 0.3221, 0.4267, 0.7753,\n",
      "         0.3208, 0.0543, 0.4328, 0.4075, 0.7060, 0.7462, 0.0763, 0.7790, 0.8319,\n",
      "         0.1943, 0.4211, 0.8268, 0.1112, 0.1933, 0.4584, 0.5629]])\n"
     ]
    }
   ],
   "source": [
    "x = torch.rand(5,10)\n",
    "print(x.view(50))# multple-D to one-D\n",
    "print(x.view(-1, 25))# multple-D to two-D"
   ]
  },
  {
   "cell_type": "code",
   "execution_count": 10,
   "id": "2f05c3aa",
   "metadata": {},
   "outputs": [],
   "source": [
    "import numpy as np"
   ]
  },
  {
   "cell_type": "code",
   "execution_count": 11,
   "id": "8bd9c782",
   "metadata": {},
   "outputs": [
    {
     "name": "stdout",
     "output_type": "stream",
     "text": [
      "<class 'numpy.ndarray'>\n",
      "tensor([2., 2., 2., 2., 2.])\n",
      "[2. 2. 2. 2. 2.]\n"
     ]
    }
   ],
   "source": [
    "a = torch.ones(5)\n",
    "b = a.numpy()\n",
    "print(type(b))\n",
    "\n",
    "a.add_(1)\n",
    "print(a)\n",
    "print(b)# Call by refrence"
   ]
  },
  {
   "cell_type": "code",
   "execution_count": 12,
   "id": "f4b0f10b",
   "metadata": {},
   "outputs": [],
   "source": [
    "if torch.cuda.is_available():\n",
    "    device = torch.device(\"cuda\")\n",
    "    x = torch.ones(5, device=device)# use GPU\n",
    "    y = torch.ones(5)\n",
    "    y = y.to(device)# use GPU\n",
    "    z = x + y \n",
    "#     z.numpy() #dis will error, cause numpy only handle cpu tensor\n",
    "    z = z.to(\"cpu\")\n",
    "    z.numpy()"
   ]
  },
  {
   "cell_type": "code",
   "execution_count": 13,
   "id": "151a268c",
   "metadata": {},
   "outputs": [
    {
     "data": {
      "text/plain": [
       "tensor([1., 1., 1., 1., 1.], requires_grad=True)"
      ]
     },
     "execution_count": 13,
     "metadata": {},
     "output_type": "execute_result"
    }
   ],
   "source": [
    "torch.ones(5, requires_grad=True)"
   ]
  }
 ],
 "metadata": {
  "kernelspec": {
   "display_name": "Python 3 (ipykernel)",
   "language": "python",
   "name": "python3"
  },
  "language_info": {
   "codemirror_mode": {
    "name": "ipython",
    "version": 3
   },
   "file_extension": ".py",
   "mimetype": "text/x-python",
   "name": "python",
   "nbconvert_exporter": "python",
   "pygments_lexer": "ipython3",
   "version": "3.7.9"
  }
 },
 "nbformat": 4,
 "nbformat_minor": 5
}
